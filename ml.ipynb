{
  "nbformat": 4,
  "nbformat_minor": 0,
  "metadata": {
    "colab": {
      "private_outputs": true,
      "provenance": []
    },
    "kernelspec": {
      "name": "python3",
      "display_name": "Python 3"
    },
    "language_info": {
      "name": "python"
    }
  },
  "cells": [
    {
      "cell_type": "code",
      "execution_count": null,
      "metadata": {
        "id": "NXHAc0zmhxvO"
      },
      "outputs": [],
      "source": [
        "import numpy as np\n",
        "import pandas as pd\n",
        "import seaborn as sns\n",
        "import matplotlib.pyplot as plt\n",
        "from keras.models import Sequential\n",
        "from keras.layers import Dense\n",
        "import tensorflow as tf"
      ]
    },
    {
      "cell_type": "code",
      "source": [
        "df=pd.read_csv('data1.csv')"
      ],
      "metadata": {
        "id": "O_O8tEFNjUMb"
      },
      "execution_count": null,
      "outputs": []
    },
    {
      "cell_type": "code",
      "source": [
        "df"
      ],
      "metadata": {
        "id": "BUyYWJ73kKmH"
      },
      "execution_count": null,
      "outputs": []
    },
    {
      "cell_type": "code",
      "source": [
        "df=df.replace(('زن'), 0)\n",
        "df=df.replace(('مرد'),1)\n",
        "df"
      ],
      "metadata": {
        "id": "oVuXagzskM2I"
      },
      "execution_count": null,
      "outputs": []
    },
    {
      "cell_type": "code",
      "source": [
        "df.head()"
      ],
      "metadata": {
        "id": "8zpH8iIakW1f"
      },
      "execution_count": null,
      "outputs": []
    },
    {
      "cell_type": "code",
      "source": [
        "df.describe()"
      ],
      "metadata": {
        "id": "Vk_EQqamkdBi"
      },
      "execution_count": null,
      "outputs": []
    },
    {
      "cell_type": "code",
      "source": [
        "new=[]\n",
        "for android in df['android']:\n",
        "    if android==0:\n",
        "        new.append(0)\n",
        "    elif  android>0:\n",
        "        new.append(1)\n",
        "df['android']=new\n",
        "df"
      ],
      "metadata": {
        "id": "GV-1Sd_QkoYJ"
      },
      "execution_count": null,
      "outputs": []
    },
    {
      "cell_type": "code",
      "source": [
        "new=[]\n",
        "for ios in df['ios']:\n",
        "    if ios==0:\n",
        "        new.append(0)\n",
        "    elif  ios>0:\n",
        "        new.append(1)\n",
        "df['ios']=new\n",
        "df"
      ],
      "metadata": {
        "id": "G09Jxvu3k6Mw"
      },
      "execution_count": null,
      "outputs": []
    },
    {
      "cell_type": "code",
      "source": [
        "new=[]\n",
        "for windows in df['windows']:\n",
        "    if windows==0:\n",
        "        new.append(0)\n",
        "    elif  windows>0:\n",
        "        new.append(1)\n",
        "df['windows']=new\n",
        "df"
      ],
      "metadata": {
        "id": "wi6NBt0_k_I0"
      },
      "execution_count": null,
      "outputs": []
    },
    {
      "cell_type": "code",
      "source": [
        "x=df.drop('dore',axis=1)\n",
        "y=df.dore"
      ],
      "metadata": {
        "id": "BfmrxbDwlETT"
      },
      "execution_count": null,
      "outputs": []
    },
    {
      "cell_type": "code",
      "source": [
        "x"
      ],
      "metadata": {
        "id": "n19foa7olF5j"
      },
      "execution_count": null,
      "outputs": []
    },
    {
      "cell_type": "code",
      "source": [
        "y"
      ],
      "metadata": {
        "id": "GokNlNKjlOam"
      },
      "execution_count": null,
      "outputs": []
    },
    {
      "cell_type": "code",
      "source": [
        "x=np.array(x)\n",
        "x"
      ],
      "metadata": {
        "id": "B58YjJbolXcW"
      },
      "execution_count": null,
      "outputs": []
    },
    {
      "cell_type": "code",
      "source": [
        "y=np.array(y)\n",
        "y"
      ],
      "metadata": {
        "id": "M4Pq08kflcNr"
      },
      "execution_count": null,
      "outputs": []
    },
    {
      "cell_type": "code",
      "source": [
        "df.describe()"
      ],
      "metadata": {
        "id": "HFPaRfvklkJf"
      },
      "execution_count": null,
      "outputs": []
    },
    {
      "cell_type": "code",
      "source": [
        "sns.countplot(x='dore',data=df)\n",
        "print('number of dore for each 0 and 1 are:\\n',df['dore'].value_counts())"
      ],
      "metadata": {
        "id": "x2DJk56QlmpL"
      },
      "execution_count": null,
      "outputs": []
    },
    {
      "cell_type": "code",
      "source": [
        "plt.subplots(figsize=(9,9))\n",
        "sns.heatmap(df.corr(),annot=True)"
      ],
      "metadata": {
        "id": "WldtmqKclv9-"
      },
      "execution_count": null,
      "outputs": []
    },
    {
      "cell_type": "markdown",
      "source": [],
      "metadata": {
        "id": "C0-6jxSiV1C9"
      }
    },
    {
      "cell_type": "code",
      "source": [
        "model=Sequential()\n",
        "model.add(Dense(12,input_dim=5, activation='relu'))\n",
        "model.add(Dense(5, activation='relu'))\n",
        "model.add(Dense(2, activation='sigmoid'))\n",
        "model.compile(loss=tf.keras.losses.SparseCategoricalCrossentropy(from_logits= True),\n",
        "              optimizer='adam', metrics=['accuracy'])"
      ],
      "metadata": {
        "id": "bGfco_duQ-fr"
      },
      "execution_count": null,
      "outputs": []
    },
    {
      "cell_type": "code",
      "source": [
        "model.summary()"
      ],
      "metadata": {
        "id": "l-vZLuZcWHOR"
      },
      "execution_count": null,
      "outputs": []
    }
  ]
}